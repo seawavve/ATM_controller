{
  "nbformat": 4,
  "nbformat_minor": 0,
  "metadata": {
    "colab": {
      "name": "Untitled99.ipynb",
      "provenance": [],
      "authorship_tag": "ABX9TyMU7fEChVrZIPKT1aK4S52k",
      "include_colab_link": true
    },
    "kernelspec": {
      "name": "python3",
      "display_name": "Python 3"
    },
    "language_info": {
      "name": "python"
    }
  },
  "cells": [
    {
      "cell_type": "markdown",
      "metadata": {
        "id": "view-in-github",
        "colab_type": "text"
      },
      "source": [
        "<a href=\"https://colab.research.google.com/github/seawavve/ATM_controller/blob/main/ATM_controller.ipynb\" target=\"_parent\"><img src=\"https://colab.research.google.com/assets/colab-badge.svg\" alt=\"Open In Colab\"/></a>"
      ]
    },
    {
      "cell_type": "code",
      "execution_count": null,
      "metadata": {
        "id": "Li5-DzFm95qw"
      },
      "outputs": [],
      "source": [
        "class Card():\n",
        "  def __init__(self):\n",
        "    self.PIN = '0000'\n",
        "    self.accounts = [\n",
        "                     '000-00-0000',\n",
        "                     '000-00-0000'\n",
        "                     ]\n",
        "\n",
        "  def check_PIN(self,inserted_PIN):\n",
        "    return self.PIN == inserted_PIN\n",
        "\n",
        "  def select_account(self):\n",
        "    show_accounts(self.accounts)\n",
        "    selected_account = choose_selected_account(elf.accounts)\n",
        "    return selected_account\n",
        "    \n",
        "\n",
        "class Account():\n",
        "  def __init__(self,account):\n",
        "    self.account = account\n",
        "    self.balance = 0\n",
        "\n",
        "  def check_balance(self):\n",
        "    show_balance()\n",
        "\n",
        "  def deposit(self, money):\n",
        "    self.balance = self.balance + money\n",
        "    show_balance()\n",
        "\n",
        "  def withdraw(self, money):\n",
        "    check_withdraw_available()\n",
        "    self.balance = self.balance - money\n",
        "     return give_withdrawed_money()\n",
        "    \n",
        "\n",
        "\n",
        "def main():\n",
        "  if card:\n",
        "    my_card = Card()\n",
        "    my_account = Account()\n",
        "\n",
        "    inserted_PIN = get_inserted_PIN()\n",
        "    if my_card.check_PIN(inserted_PIN):\n",
        "      print('PIN번호가 일치합니다.')\n",
        "    else:\n",
        "      print('PIN번호가 불일치합니다.')\n",
        "      \n",
        "    account = my_card.select_account()\n",
        "    my_account = Account(account)\n",
        "    chosen_menu = choose_menu()\n",
        "    if chosen_menu == 'balance':\n",
        "      my_account.check_balance()\n",
        "    elif chosen_menu == 'deposit':\n",
        "      my_account.deposit()\n",
        "    elif chosen_menu == 'withdraw':\n",
        "      my_account.withdraw()\n",
        "    \n",
        "    give_card()\n",
        "  return 0\n"
      ]
    }
  ]
}